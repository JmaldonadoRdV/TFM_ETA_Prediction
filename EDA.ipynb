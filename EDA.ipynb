{
 "cells": [
  {
   "cell_type": "markdown",
   "metadata": {},
   "source": [
    "# Importación de módulos"
   ]
  },
  {
   "cell_type": "code",
   "execution_count": 4,
   "metadata": {},
   "outputs": [],
   "source": [
    "import pandas as pd\n",
    "import numpy as np\n",
    "import seaborn as sns\n",
    "import matplotlib.pyplot as plt\n",
    "\n",
    "# comando para hacer que las gráficas aparezcan en el notebook\n",
    "%matplotlib inline "
   ]
  },
  {
   "cell_type": "markdown",
   "metadata": {},
   "source": [
    "# Carga de datos"
   ]
  },
  {
   "cell_type": "code",
   "execution_count": 6,
   "metadata": {},
   "outputs": [],
   "source": [
    "data = pd.read_csv('./ais_data.csv',index_col=0)"
   ]
  },
  {
   "cell_type": "markdown",
   "metadata": {},
   "source": [
    "# Inspeccionamos el tamaño del set de datos\n",
    "En este caso se tienen 358351 registros y 9 columnas"
   ]
  },
  {
   "cell_type": "code",
   "execution_count": 8,
   "metadata": {},
   "outputs": [
    {
     "data": {
      "text/plain": [
       "(358351, 9)"
      ]
     },
     "execution_count": 8,
     "metadata": {},
     "output_type": "execute_result"
    }
   ],
   "source": [
    "data.shape"
   ]
  },
  {
   "cell_type": "markdown",
   "metadata": {},
   "source": [
    "# Primera visualización de los datos"
   ]
  },
  {
   "cell_type": "code",
   "execution_count": 9,
   "metadata": {},
   "outputs": [
    {
     "data": {
      "text/html": [
       "<div>\n",
       "<style scoped>\n",
       "    .dataframe tbody tr th:only-of-type {\n",
       "        vertical-align: middle;\n",
       "    }\n",
       "\n",
       "    .dataframe tbody tr th {\n",
       "        vertical-align: top;\n",
       "    }\n",
       "\n",
       "    .dataframe thead th {\n",
       "        text-align: right;\n",
       "    }\n",
       "</style>\n",
       "<table border=\"1\" class=\"dataframe\">\n",
       "  <thead>\n",
       "    <tr style=\"text-align: right;\">\n",
       "      <th></th>\n",
       "      <th>mmsi</th>\n",
       "      <th>navigationalstatus</th>\n",
       "      <th>sog</th>\n",
       "      <th>cog</th>\n",
       "      <th>heading</th>\n",
       "      <th>shiptype</th>\n",
       "      <th>width</th>\n",
       "      <th>length</th>\n",
       "      <th>draught</th>\n",
       "    </tr>\n",
       "  </thead>\n",
       "  <tbody>\n",
       "    <tr>\n",
       "      <th>0</th>\n",
       "      <td>219019621</td>\n",
       "      <td>Unknown value</td>\n",
       "      <td>0.0</td>\n",
       "      <td>86.0</td>\n",
       "      <td>86.0</td>\n",
       "      <td>Fishing</td>\n",
       "      <td>4.0</td>\n",
       "      <td>9.0</td>\n",
       "      <td>NaN</td>\n",
       "    </tr>\n",
       "    <tr>\n",
       "      <th>1</th>\n",
       "      <td>265628170</td>\n",
       "      <td>Unknown value</td>\n",
       "      <td>0.0</td>\n",
       "      <td>334.5</td>\n",
       "      <td>NaN</td>\n",
       "      <td>Port tender</td>\n",
       "      <td>8.0</td>\n",
       "      <td>27.0</td>\n",
       "      <td>NaN</td>\n",
       "    </tr>\n",
       "    <tr>\n",
       "      <th>2</th>\n",
       "      <td>219005719</td>\n",
       "      <td>Unknown value</td>\n",
       "      <td>0.0</td>\n",
       "      <td>208.7</td>\n",
       "      <td>NaN</td>\n",
       "      <td>Fishing</td>\n",
       "      <td>4.0</td>\n",
       "      <td>11.0</td>\n",
       "      <td>NaN</td>\n",
       "    </tr>\n",
       "    <tr>\n",
       "      <th>3</th>\n",
       "      <td>219028066</td>\n",
       "      <td>Unknown value</td>\n",
       "      <td>0.0</td>\n",
       "      <td>NaN</td>\n",
       "      <td>NaN</td>\n",
       "      <td>Pleasure</td>\n",
       "      <td>3.0</td>\n",
       "      <td>12.0</td>\n",
       "      <td>NaN</td>\n",
       "    </tr>\n",
       "    <tr>\n",
       "      <th>4</th>\n",
       "      <td>212584000</td>\n",
       "      <td>Moored</td>\n",
       "      <td>0.0</td>\n",
       "      <td>153.0</td>\n",
       "      <td>106.0</td>\n",
       "      <td>Cargo</td>\n",
       "      <td>13.0</td>\n",
       "      <td>99.0</td>\n",
       "      <td>6.3</td>\n",
       "    </tr>\n",
       "  </tbody>\n",
       "</table>\n",
       "</div>"
      ],
      "text/plain": [
       "        mmsi navigationalstatus  sog    cog  heading     shiptype  width  \\\n",
       "0  219019621      Unknown value  0.0   86.0     86.0      Fishing    4.0   \n",
       "1  265628170      Unknown value  0.0  334.5      NaN  Port tender    8.0   \n",
       "2  219005719      Unknown value  0.0  208.7      NaN      Fishing    4.0   \n",
       "3  219028066      Unknown value  0.0    NaN      NaN     Pleasure    3.0   \n",
       "4  212584000             Moored  0.0  153.0    106.0        Cargo   13.0   \n",
       "\n",
       "   length  draught  \n",
       "0     9.0      NaN  \n",
       "1    27.0      NaN  \n",
       "2    11.0      NaN  \n",
       "3    12.0      NaN  \n",
       "4    99.0      6.3  "
      ]
     },
     "execution_count": 9,
     "metadata": {},
     "output_type": "execute_result"
    }
   ],
   "source": [
    "data.head()"
   ]
  },
  {
   "cell_type": "code",
   "execution_count": 10,
   "metadata": {},
   "outputs": [
    {
     "data": {
      "text/html": [
       "<div>\n",
       "<style scoped>\n",
       "    .dataframe tbody tr th:only-of-type {\n",
       "        vertical-align: middle;\n",
       "    }\n",
       "\n",
       "    .dataframe tbody tr th {\n",
       "        vertical-align: top;\n",
       "    }\n",
       "\n",
       "    .dataframe thead th {\n",
       "        text-align: right;\n",
       "    }\n",
       "</style>\n",
       "<table border=\"1\" class=\"dataframe\">\n",
       "  <thead>\n",
       "    <tr style=\"text-align: right;\">\n",
       "      <th></th>\n",
       "      <th>mmsi</th>\n",
       "      <th>navigationalstatus</th>\n",
       "      <th>sog</th>\n",
       "      <th>cog</th>\n",
       "      <th>heading</th>\n",
       "      <th>shiptype</th>\n",
       "      <th>width</th>\n",
       "      <th>length</th>\n",
       "      <th>draught</th>\n",
       "    </tr>\n",
       "  </thead>\n",
       "  <tbody>\n",
       "    <tr>\n",
       "      <th>387577</th>\n",
       "      <td>236125000</td>\n",
       "      <td>Under way using engine</td>\n",
       "      <td>11.0</td>\n",
       "      <td>171.9</td>\n",
       "      <td>169.0</td>\n",
       "      <td>Cargo</td>\n",
       "      <td>12.0</td>\n",
       "      <td>82.0</td>\n",
       "      <td>4.2</td>\n",
       "    </tr>\n",
       "    <tr>\n",
       "      <th>387578</th>\n",
       "      <td>209717000</td>\n",
       "      <td>Under way using engine</td>\n",
       "      <td>16.6</td>\n",
       "      <td>341.6</td>\n",
       "      <td>343.0</td>\n",
       "      <td>Cargo</td>\n",
       "      <td>27.0</td>\n",
       "      <td>170.0</td>\n",
       "      <td>8.9</td>\n",
       "    </tr>\n",
       "    <tr>\n",
       "      <th>387579</th>\n",
       "      <td>257182000</td>\n",
       "      <td>Under way using engine</td>\n",
       "      <td>20.6</td>\n",
       "      <td>340.7</td>\n",
       "      <td>341.0</td>\n",
       "      <td>Passenger</td>\n",
       "      <td>36.0</td>\n",
       "      <td>224.0</td>\n",
       "      <td>6.9</td>\n",
       "    </tr>\n",
       "    <tr>\n",
       "      <th>387580</th>\n",
       "      <td>219007697</td>\n",
       "      <td>Unknown value</td>\n",
       "      <td>34.9</td>\n",
       "      <td>96.2</td>\n",
       "      <td>NaN</td>\n",
       "      <td>Pilot</td>\n",
       "      <td>3.0</td>\n",
       "      <td>7.0</td>\n",
       "      <td>NaN</td>\n",
       "    </tr>\n",
       "    <tr>\n",
       "      <th>387581</th>\n",
       "      <td>261054050</td>\n",
       "      <td>Under way using engine</td>\n",
       "      <td>11.5</td>\n",
       "      <td>315.0</td>\n",
       "      <td>310.0</td>\n",
       "      <td>Fishing</td>\n",
       "      <td>8.0</td>\n",
       "      <td>32.0</td>\n",
       "      <td>6.0</td>\n",
       "    </tr>\n",
       "  </tbody>\n",
       "</table>\n",
       "</div>"
      ],
      "text/plain": [
       "             mmsi      navigationalstatus   sog    cog  heading   shiptype  \\\n",
       "387577  236125000  Under way using engine  11.0  171.9    169.0      Cargo   \n",
       "387578  209717000  Under way using engine  16.6  341.6    343.0      Cargo   \n",
       "387579  257182000  Under way using engine  20.6  340.7    341.0  Passenger   \n",
       "387580  219007697           Unknown value  34.9   96.2      NaN      Pilot   \n",
       "387581  261054050  Under way using engine  11.5  315.0    310.0    Fishing   \n",
       "\n",
       "        width  length  draught  \n",
       "387577   12.0    82.0      4.2  \n",
       "387578   27.0   170.0      8.9  \n",
       "387579   36.0   224.0      6.9  \n",
       "387580    3.0     7.0      NaN  \n",
       "387581    8.0    32.0      6.0  "
      ]
     },
     "execution_count": 10,
     "metadata": {},
     "output_type": "execute_result"
    }
   ],
   "source": [
    "data.tail()"
   ]
  },
  {
   "cell_type": "markdown",
   "metadata": {},
   "source": [
    "# Columnas\n",
    "+ mmsi - definir\n",
    "+ navigationalstatus - \n",
    "+ sog\n",
    "+ cog\n",
    "+ heading\n",
    "+ shiptype\n",
    "+ width \n",
    "+ length\n",
    "+ draught"
   ]
  },
  {
   "cell_type": "code",
   "execution_count": 11,
   "metadata": {},
   "outputs": [
    {
     "data": {
      "text/plain": [
       "Index(['mmsi', 'navigationalstatus', 'sog', 'cog', 'heading', 'shiptype',\n",
       "       'width', 'length', 'draught'],\n",
       "      dtype='object')"
      ]
     },
     "execution_count": 11,
     "metadata": {},
     "output_type": "execute_result"
    }
   ],
   "source": [
    "data.columns"
   ]
  },
  {
   "cell_type": "markdown",
   "metadata": {},
   "source": [
    "## Tipología de las columnas\n",
    "Se debe comprobar que los tipos de datos obtenidos son los que deberían ser o es necesario hacer algún cambio\n",
    "Aquí también se observa que existen valores nulos y hay que pensar qué hacer con ellos"
   ]
  },
  {
   "cell_type": "code",
   "execution_count": 19,
   "metadata": {},
   "outputs": [
    {
     "name": "stdout",
     "output_type": "stream",
     "text": [
      "<class 'pandas.core.frame.DataFrame'>\n",
      "Int64Index: 358351 entries, 0 to 387581\n",
      "Data columns (total 9 columns):\n",
      " #   Column              Non-Null Count   Dtype  \n",
      "---  ------              --------------   -----  \n",
      " 0   mmsi                358351 non-null  int64  \n",
      " 1   navigationalstatus  358351 non-null  object \n",
      " 2   sog                 357893 non-null  float64\n",
      " 3   cog                 355182 non-null  float64\n",
      " 4   heading             337737 non-null  float64\n",
      " 5   shiptype            358351 non-null  object \n",
      " 6   width               354640 non-null  float64\n",
      " 7   length              354608 non-null  float64\n",
      " 8   draught             332808 non-null  float64\n",
      "dtypes: float64(6), int64(1), object(2)\n",
      "memory usage: 27.3+ MB\n"
     ]
    }
   ],
   "source": [
    "data.info()\n"
   ]
  },
  {
   "cell_type": "markdown",
   "metadata": {},
   "source": [
    "# Valores nulos"
   ]
  },
  {
   "cell_type": "code",
   "execution_count": 14,
   "metadata": {},
   "outputs": [
    {
     "data": {
      "text/plain": [
       "mmsi                      0\n",
       "navigationalstatus        0\n",
       "sog                     458\n",
       "cog                    3169\n",
       "heading               20614\n",
       "shiptype                  0\n",
       "width                  3711\n",
       "length                 3743\n",
       "draught               25543\n",
       "dtype: int64"
      ]
     },
     "execution_count": 14,
     "metadata": {},
     "output_type": "execute_result"
    }
   ],
   "source": [
    "data.isnull().sum()"
   ]
  },
  {
   "cell_type": "markdown",
   "metadata": {},
   "source": [
    "# Análisis univariable"
   ]
  },
  {
   "cell_type": "markdown",
   "metadata": {},
   "source": [
    "## Datos estadísticos de las columnas numéricas"
   ]
  },
  {
   "cell_type": "code",
   "execution_count": 20,
   "metadata": {},
   "outputs": [
    {
     "data": {
      "text/html": [
       "<div>\n",
       "<style scoped>\n",
       "    .dataframe tbody tr th:only-of-type {\n",
       "        vertical-align: middle;\n",
       "    }\n",
       "\n",
       "    .dataframe tbody tr th {\n",
       "        vertical-align: top;\n",
       "    }\n",
       "\n",
       "    .dataframe thead th {\n",
       "        text-align: right;\n",
       "    }\n",
       "</style>\n",
       "<table border=\"1\" class=\"dataframe\">\n",
       "  <thead>\n",
       "    <tr style=\"text-align: right;\">\n",
       "      <th></th>\n",
       "      <th>mmsi</th>\n",
       "      <th>sog</th>\n",
       "      <th>cog</th>\n",
       "      <th>heading</th>\n",
       "      <th>width</th>\n",
       "      <th>length</th>\n",
       "      <th>draught</th>\n",
       "    </tr>\n",
       "  </thead>\n",
       "  <tbody>\n",
       "    <tr>\n",
       "      <th>count</th>\n",
       "      <td>3.583510e+05</td>\n",
       "      <td>357893.000000</td>\n",
       "      <td>355182.000000</td>\n",
       "      <td>337737.000000</td>\n",
       "      <td>354640.000000</td>\n",
       "      <td>354608.000000</td>\n",
       "      <td>332808.000000</td>\n",
       "    </tr>\n",
       "    <tr>\n",
       "      <th>mean</th>\n",
       "      <td>2.939678e+08</td>\n",
       "      <td>12.122554</td>\n",
       "      <td>189.064529</td>\n",
       "      <td>190.076829</td>\n",
       "      <td>19.947854</td>\n",
       "      <td>124.971549</td>\n",
       "      <td>6.571402</td>\n",
       "    </tr>\n",
       "    <tr>\n",
       "      <th>std</th>\n",
       "      <td>1.213866e+08</td>\n",
       "      <td>9.355851</td>\n",
       "      <td>107.588825</td>\n",
       "      <td>107.107604</td>\n",
       "      <td>10.808627</td>\n",
       "      <td>71.268183</td>\n",
       "      <td>2.934392</td>\n",
       "    </tr>\n",
       "    <tr>\n",
       "      <th>min</th>\n",
       "      <td>9.112856e+06</td>\n",
       "      <td>0.000000</td>\n",
       "      <td>0.000000</td>\n",
       "      <td>0.000000</td>\n",
       "      <td>1.000000</td>\n",
       "      <td>2.000000</td>\n",
       "      <td>0.400000</td>\n",
       "    </tr>\n",
       "    <tr>\n",
       "      <th>25%</th>\n",
       "      <td>2.195780e+08</td>\n",
       "      <td>9.200000</td>\n",
       "      <td>116.300000</td>\n",
       "      <td>120.000000</td>\n",
       "      <td>12.000000</td>\n",
       "      <td>83.000000</td>\n",
       "      <td>4.600000</td>\n",
       "    </tr>\n",
       "    <tr>\n",
       "      <th>50%</th>\n",
       "      <td>2.486590e+08</td>\n",
       "      <td>11.300000</td>\n",
       "      <td>168.700000</td>\n",
       "      <td>170.000000</td>\n",
       "      <td>17.000000</td>\n",
       "      <td>115.000000</td>\n",
       "      <td>6.100000</td>\n",
       "    </tr>\n",
       "    <tr>\n",
       "      <th>75%</th>\n",
       "      <td>3.046650e+08</td>\n",
       "      <td>13.300000</td>\n",
       "      <td>300.175000</td>\n",
       "      <td>303.000000</td>\n",
       "      <td>28.000000</td>\n",
       "      <td>181.000000</td>\n",
       "      <td>7.900000</td>\n",
       "    </tr>\n",
       "    <tr>\n",
       "      <th>max</th>\n",
       "      <td>9.921950e+08</td>\n",
       "      <td>214.000000</td>\n",
       "      <td>359.900000</td>\n",
       "      <td>507.000000</td>\n",
       "      <td>78.000000</td>\n",
       "      <td>690.000000</td>\n",
       "      <td>25.500000</td>\n",
       "    </tr>\n",
       "  </tbody>\n",
       "</table>\n",
       "</div>"
      ],
      "text/plain": [
       "               mmsi            sog            cog        heading  \\\n",
       "count  3.583510e+05  357893.000000  355182.000000  337737.000000   \n",
       "mean   2.939678e+08      12.122554     189.064529     190.076829   \n",
       "std    1.213866e+08       9.355851     107.588825     107.107604   \n",
       "min    9.112856e+06       0.000000       0.000000       0.000000   \n",
       "25%    2.195780e+08       9.200000     116.300000     120.000000   \n",
       "50%    2.486590e+08      11.300000     168.700000     170.000000   \n",
       "75%    3.046650e+08      13.300000     300.175000     303.000000   \n",
       "max    9.921950e+08     214.000000     359.900000     507.000000   \n",
       "\n",
       "               width         length        draught  \n",
       "count  354640.000000  354608.000000  332808.000000  \n",
       "mean       19.947854     124.971549       6.571402  \n",
       "std        10.808627      71.268183       2.934392  \n",
       "min         1.000000       2.000000       0.400000  \n",
       "25%        12.000000      83.000000       4.600000  \n",
       "50%        17.000000     115.000000       6.100000  \n",
       "75%        28.000000     181.000000       7.900000  \n",
       "max        78.000000     690.000000      25.500000  "
      ]
     },
     "execution_count": 20,
     "metadata": {},
     "output_type": "execute_result"
    }
   ],
   "source": [
    "data.describe()"
   ]
  },
  {
   "cell_type": "markdown",
   "metadata": {},
   "source": [
    "# Gráfico de densidad columnas numéricas\n"
   ]
  },
  {
   "cell_type": "code",
   "execution_count": 22,
   "metadata": {},
   "outputs": [
    {
     "name": "stderr",
     "output_type": "stream",
     "text": [
      "c:\\Users\\jmald\\anaconda3\\lib\\site-packages\\seaborn\\distributions.py:2551: FutureWarning: `distplot` is a deprecated function and will be removed in a future version. Please adapt your code to use either `displot` (a figure-level function with similar flexibility) or `histplot` (an axes-level function for histograms).\n",
      "  warnings.warn(msg, FutureWarning)\n"
     ]
    },
    {
     "data": {
      "text/plain": [
       "<AxesSubplot:xlabel='mmsi', ylabel='Density'>"
      ]
     },
     "execution_count": 22,
     "metadata": {},
     "output_type": "execute_result"
    },
    {
     "data": {
      "image/png": "[encoded data removed]",
      "text/plain": [
       "<Figure size 432x288 with 1 Axes>"
      ]
     },
     "metadata": {
      "needs_background": "light"
     },
     "output_type": "display_data"
    }
   ],
   "source": [
    "sns.distplot(data[\"mmsi\"])\n",
    "# lo que haría aqui es crear un bucle y guardar los gráficos en una carpeta"
   ]
  },
  {
   "cell_type": "markdown",
   "metadata": {},
   "source": [
    "# Gráficos de violín columnas numéricas"
   ]
  },
  {
   "cell_type": "code",
   "execution_count": 26,
   "metadata": {},
   "outputs": [
    {
     "data": {
      "text/plain": [
       "<AxesSubplot:ylabel='mmsi'>"
      ]
     },
     "execution_count": 26,
     "metadata": {},
     "output_type": "execute_result"
    },
    {
     "data": {
      "image/png": "[encoded data removed]",
      "text/plain": [
       "<Figure size 432x288 with 1 Axes>"
      ]
     },
     "metadata": {
      "needs_background": "light"
     },
     "output_type": "display_data"
    }
   ],
   "source": [
    "sns.violinplot(y=data[\"mmsi\"])"
   ]
  },
  {
   "cell_type": "markdown",
   "metadata": {},
   "source": [
    "# Gráficos de caja\n"
   ]
  },
  {
   "cell_type": "code",
   "execution_count": 28,
   "metadata": {},
   "outputs": [
    {
     "data": {
      "text/plain": [
       "<AxesSubplot:ylabel='mmsi'>"
      ]
     },
     "execution_count": 28,
     "metadata": {},
     "output_type": "execute_result"
    },
    {
     "data": {
      "image/png": "[encoded data removed]",
      "text/plain": [
       "<Figure size 432x288 with 1 Axes>"
      ]
     },
     "metadata": {
      "needs_background": "light"
     },
     "output_type": "display_data"
    }
   ],
   "source": [
    "sns.boxplot(y= data[\"mmsi\"])"
   ]
  },
  {
   "cell_type": "markdown",
   "metadata": {},
   "source": [
    "# Conteo de los valores de las variables categóricas\n"
   ]
  },
  {
   "cell_type": "code",
   "execution_count": 33,
   "metadata": {},
   "outputs": [
    {
     "data": {
      "text/plain": [
       "Under way using engine                                   307581\n",
       "Unknown value                                             17259\n",
       "Constrained by her draught                                12287\n",
       "Engaged in fishing                                        10798\n",
       "Moored                                                     4121\n",
       "Reserved for future amendment [HSC]                        1872\n",
       "Restricted maneuverability                                 1868\n",
       "Under way sailing                                          1396\n",
       "At anchor                                                   513\n",
       "Power-driven vessel towing astern                           377\n",
       "Power-driven vessel pushing ahead or towing alongside       236\n",
       "Not under command                                            31\n",
       "Reserved for future amendment [WIG]                          12\n",
       "Name: navigationalstatus, dtype: int64"
      ]
     },
     "execution_count": 33,
     "metadata": {},
     "output_type": "execute_result"
    }
   ],
   "source": [
    "data[\"navigationalstatus\"].value_counts()"
   ]
  },
  {
   "cell_type": "markdown",
   "metadata": {},
   "source": [
    "# Gráfico de barras variables categóricas"
   ]
  },
  {
   "cell_type": "code",
   "execution_count": 31,
   "metadata": {},
   "outputs": [
    {
     "data": {
      "text/plain": [
       "<AxesSubplot:xlabel='navigationalstatus', ylabel='count'>"
      ]
     },
     "execution_count": 31,
     "metadata": {},
     "output_type": "execute_result"
    },
    {
     "data": {
      "image/png": "[encoded data removed]",
      "text/plain": [
       "<Figure size 432x288 with 1 Axes>"
      ]
     },
     "metadata": {
      "needs_background": "light"
     },
     "output_type": "display_data"
    }
   ],
   "source": [
    "sns.countplot(x=\"navigationalstatus\", data=data)"
   ]
  },
  {
   "cell_type": "code",
   "execution_count": null,
   "metadata": {},
   "outputs": [],
   "source": []
  }
 ],
 "metadata": {
  "kernelspec": {
   "display_name": "Python 3.8.5 ('base')",
   "language": "python",
   "name": "python3"
  },
  "language_info": {
   "codemirror_mode": {
    "name": "ipython",
    "version": 3
   },
   "file_extension": ".py",
   "mimetype": "text/x-python",
   "name": "python",
   "nbconvert_exporter": "python",
   "pygments_lexer": "ipython3",
   "version": "3.8.5"
  },
  "orig_nbformat": 4,
  "vscode": {
   "interpreter": {
    "hash": "d456c1405df1969f6624f2088e5f00d9fb0e9628e232b21945cf7dce75ad913c"
   }
  }
 },
 "nbformat": 4,
 "nbformat_minor": 2
}
